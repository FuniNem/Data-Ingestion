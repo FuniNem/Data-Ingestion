{
  "cells": [
    {
      "cell_type": "markdown",
      "metadata": {
        "id": "view-in-github",
        "colab_type": "text"
      },
      "source": [
        "<a href=\"https://colab.research.google.com/github/FuniNem/Data-Ingestion/blob/main/test_ingest_code.ipynb\" target=\"_parent\"><img src=\"https://colab.research.google.com/assets/colab-badge.svg\" alt=\"Open In Colab\"/></a>"
      ]
    },
    {
      "cell_type": "code",
      "execution_count": null,
      "id": "64e59c84",
      "metadata": {
        "id": "64e59c84",
        "outputId": "005c397e-3058-4a6f-98ca-fcb2ffccf688"
      },
      "outputs": [
        {
          "name": "stdout",
          "output_type": "stream",
          "text": [
            "            Transaction unique identifier  Price  Date of Transfer  \\\n",
            "0  {81B82214-7FBC-4129-9F6B-4956B4A663AD}  25000  1995-08-18 00:00   \n",
            "1  {8046EC72-1466-42D6-A753-4956BF7CD8A2}  42500  1995-08-09 00:00   \n",
            "2  {278D581A-5BF3-4FCE-AF62-4956D87691E6}  45000  1995-06-30 00:00   \n",
            "3  {1D861C06-A416-4865-973C-4956DB12CD12}  43150  1995-11-24 00:00   \n",
            "4  {DD8645FD-A815-43A6-A7BA-4956E58F1874}  18899  1995-06-23 00:00   \n",
            "\n",
            "  Property Type Old/New Duration   Town/City            District  \\\n",
            "0             T       N        F      OLDHAM              OLDHAM   \n",
            "1             S       N        F       GRAYS            THURROCK   \n",
            "2             T       N        F  HIGHBRIDGE           SEDGEMOOR   \n",
            "3             T       N        F     BEDFORD  NORTH BEDFORDSHIRE   \n",
            "4             S       N        F   WAKEFIELD               LEEDS   \n",
            "\n",
            "               County PPDCategory Type Record Status - monthly file only  \n",
            "0  GREATER MANCHESTER                A                                 A  \n",
            "1            THURROCK                A                                 A  \n",
            "2            SOMERSET                A                                 A  \n",
            "3        BEDFORDSHIRE                A                                 A  \n",
            "4      WEST YORKSHIRE                A                                 A  \n"
          ]
        }
      ],
      "source": [
        "import dask.dataframe as dd\n",
        "\n",
        "# Read the CSV file using Dask\n",
        "df = dd.read_csv('price_paid_records.csv')\n",
        "\n",
        "# Perform operations similar to Pandas\n",
        "# Example: print the first few rows\n",
        "print(df.head())\n"
      ]
    },
    {
      "cell_type": "code",
      "execution_count": null,
      "id": "fd6a2b9b",
      "metadata": {
        "id": "fd6a2b9b",
        "outputId": "1b107a37-17ec-4af0-92ab-0aeae09547cf"
      },
      "outputs": [
        {
          "data": {
            "text/plain": [
              "Index(['Transaction unique identifier', 'Price', 'Date of Transfer',\n",
              "       'Property Type', 'Old/New', 'Duration', 'Town/City', 'District',\n",
              "       'County', 'PPDCategory Type', 'Record Status - monthly file only'],\n",
              "      dtype='object')"
            ]
          },
          "execution_count": 2,
          "metadata": {},
          "output_type": "execute_result"
        }
      ],
      "source": [
        "df.columns"
      ]
    },
    {
      "cell_type": "code",
      "execution_count": null,
      "id": "175065cb",
      "metadata": {
        "id": "175065cb",
        "outputId": "ec12d4ee-eba4-45f2-dd47-b893e83332eb"
      },
      "outputs": [
        {
          "name": "stdout",
          "output_type": "stream",
          "text": [
            "Writing testutility2.py\n"
          ]
        }
      ],
      "source": [
        "%%writefile testutility2.py\n",
        "import logging\n",
        "import os\n",
        "import subprocess\n",
        "import yaml\n",
        "import pandas as pd\n",
        "import datetime\n",
        "import gc\n",
        "import re\n",
        "\n",
        "\n",
        "################\n",
        "# File Reading #\n",
        "################\n",
        "\n",
        "def read_config_file(filepath):\n",
        "    with open(filepath, 'r') as stream:\n",
        "        try:\n",
        "            return yaml.safe_load(stream)\n",
        "        except yaml.YAMLError as exc:\n",
        "            logging.error(exc)\n",
        "\n",
        "\n",
        "def replacer(string, char):\n",
        "    pattern = char + '{2,}'\n",
        "    string = re.sub(pattern, char, string)\n",
        "    return string\n",
        "\n",
        "def col_header_val(df,table_config):\n",
        "    '''\n",
        "    replace whitespaces in the column\n",
        "    and standardized column names\n",
        "    '''\n",
        "    df.columns = df.columns.str.lower()\n",
        "    df.columns = df.columns.str.replace('[^\\w]','_',regex=True)\n",
        "    df.columns = list(map(lambda x: x.strip('_'), list(df.columns)))\n",
        "    df.columns = list(map(lambda x: replacer(x,'_'), list(df.columns)))\n",
        "    expected_col = list(map(lambda x: x.lower(),  table_config['columns']))\n",
        "    expected_col.sort()\n",
        "    df.columns =list(map(lambda x: x.lower(), list(df.columns)))\n",
        "    df = df.reindex(sorted(df.columns), axis=1)\n",
        "    if len(df.columns) == len(expected_col) and list(expected_col)  == list(df.columns):\n",
        "        print(\"column name and column length validation passed\")\n",
        "        return 1\n",
        "    else:\n",
        "        print(\"column name and column length validation failed\")\n",
        "        mismatched_columns_file = list(set(df.columns).difference(expected_col))\n",
        "        print(\"Following File columns are not in the YAML file\",mismatched_columns_file)\n",
        "        missing_YAML_file = list(set(expected_col).difference(df.columns))\n",
        "        print(\"Following YAML columns are not in the file uploaded\",missing_YAML_file)\n",
        "        logging.info(f'df columns: {df.columns}')\n",
        "        logging.info(f'expected columns: {expected_col}')\n",
        "        return 0"
      ]
    },
    {
      "cell_type": "markdown",
      "id": "adec7095",
      "metadata": {
        "id": "adec7095"
      },
      "source": [
        "## YAML File"
      ]
    },
    {
      "cell_type": "code",
      "execution_count": null,
      "id": "abc96ad0",
      "metadata": {
        "id": "abc96ad0",
        "outputId": "8d64204f-f1d6-470e-f22e-6105b32ca98f"
      },
      "outputs": [
        {
          "name": "stdout",
          "output_type": "stream",
          "text": [
            "Writing file.yaml2\n"
          ]
        }
      ],
      "source": [
        "%%writefile file.yaml2\n",
        "file_type: csv\n",
        "dataset_name: pricePaidRecords\n",
        "file_name: price_paid_records\n",
        "table_name: edsurv\n",
        "inbound_delimiter: \",\"\n",
        "outbound_delimiter: \"|\"\n",
        "skip_leading_rows: 1\n",
        "columns:\n",
        "    - Transaction unique identifier\n",
        "    - Price\n",
        "    - Date of Transfer\n",
        "    - Property Type\n",
        "    - Old/New\n",
        "    - Duration\n",
        "    - Town/City\n",
        "    - District\n",
        "    - County\n",
        "    - PPDCategory Type\n",
        "    - Record Status - monthly file only"
      ]
    },
    {
      "cell_type": "code",
      "execution_count": null,
      "id": "33c4da18",
      "metadata": {
        "id": "33c4da18"
      },
      "outputs": [],
      "source": [
        "# Read config file\n",
        "import testutility2 as util\n",
        "config_data = util.read_config_file(\"file.yaml2\")"
      ]
    },
    {
      "cell_type": "code",
      "execution_count": null,
      "id": "03f07b89",
      "metadata": {
        "id": "03f07b89",
        "outputId": "60d4ff31-375d-4d16-c229-519575c9f493"
      },
      "outputs": [
        {
          "data": {
            "text/plain": [
              "','"
            ]
          },
          "execution_count": 6,
          "metadata": {},
          "output_type": "execute_result"
        }
      ],
      "source": [
        "config_data['inbound_delimiter']"
      ]
    },
    {
      "cell_type": "code",
      "execution_count": null,
      "id": "9908d04a",
      "metadata": {
        "id": "9908d04a",
        "outputId": "1e840f89-297f-4492-8e7d-c32f5a62ff82"
      },
      "outputs": [
        {
          "data": {
            "text/html": [
              "<div>\n",
              "<style scoped>\n",
              "    .dataframe tbody tr th:only-of-type {\n",
              "        vertical-align: middle;\n",
              "    }\n",
              "\n",
              "    .dataframe tbody tr th {\n",
              "        vertical-align: top;\n",
              "    }\n",
              "\n",
              "    .dataframe thead th {\n",
              "        text-align: right;\n",
              "    }\n",
              "</style>\n",
              "<table border=\"1\" class=\"dataframe\">\n",
              "  <thead>\n",
              "    <tr style=\"text-align: right;\">\n",
              "      <th></th>\n",
              "      <th>Transaction unique identifier</th>\n",
              "      <th>Price</th>\n",
              "      <th>Date of Transfer</th>\n",
              "      <th>Property Type</th>\n",
              "      <th>Old/New</th>\n",
              "      <th>Duration</th>\n",
              "      <th>Town/City</th>\n",
              "      <th>District</th>\n",
              "      <th>County</th>\n",
              "      <th>PPDCategory Type</th>\n",
              "      <th>Record Status - monthly file only</th>\n",
              "    </tr>\n",
              "  </thead>\n",
              "  <tbody>\n",
              "    <tr>\n",
              "      <th>0</th>\n",
              "      <td>{81B82214-7FBC-4129-9F6B-4956B4A663AD}</td>\n",
              "      <td>25000</td>\n",
              "      <td>1995-08-18 00:00</td>\n",
              "      <td>T</td>\n",
              "      <td>N</td>\n",
              "      <td>F</td>\n",
              "      <td>OLDHAM</td>\n",
              "      <td>OLDHAM</td>\n",
              "      <td>GREATER MANCHESTER</td>\n",
              "      <td>A</td>\n",
              "      <td>A</td>\n",
              "    </tr>\n",
              "    <tr>\n",
              "      <th>1</th>\n",
              "      <td>{8046EC72-1466-42D6-A753-4956BF7CD8A2}</td>\n",
              "      <td>42500</td>\n",
              "      <td>1995-08-09 00:00</td>\n",
              "      <td>S</td>\n",
              "      <td>N</td>\n",
              "      <td>F</td>\n",
              "      <td>GRAYS</td>\n",
              "      <td>THURROCK</td>\n",
              "      <td>THURROCK</td>\n",
              "      <td>A</td>\n",
              "      <td>A</td>\n",
              "    </tr>\n",
              "    <tr>\n",
              "      <th>2</th>\n",
              "      <td>{278D581A-5BF3-4FCE-AF62-4956D87691E6}</td>\n",
              "      <td>45000</td>\n",
              "      <td>1995-06-30 00:00</td>\n",
              "      <td>T</td>\n",
              "      <td>N</td>\n",
              "      <td>F</td>\n",
              "      <td>HIGHBRIDGE</td>\n",
              "      <td>SEDGEMOOR</td>\n",
              "      <td>SOMERSET</td>\n",
              "      <td>A</td>\n",
              "      <td>A</td>\n",
              "    </tr>\n",
              "    <tr>\n",
              "      <th>3</th>\n",
              "      <td>{1D861C06-A416-4865-973C-4956DB12CD12}</td>\n",
              "      <td>43150</td>\n",
              "      <td>1995-11-24 00:00</td>\n",
              "      <td>T</td>\n",
              "      <td>N</td>\n",
              "      <td>F</td>\n",
              "      <td>BEDFORD</td>\n",
              "      <td>NORTH BEDFORDSHIRE</td>\n",
              "      <td>BEDFORDSHIRE</td>\n",
              "      <td>A</td>\n",
              "      <td>A</td>\n",
              "    </tr>\n",
              "    <tr>\n",
              "      <th>4</th>\n",
              "      <td>{DD8645FD-A815-43A6-A7BA-4956E58F1874}</td>\n",
              "      <td>18899</td>\n",
              "      <td>1995-06-23 00:00</td>\n",
              "      <td>S</td>\n",
              "      <td>N</td>\n",
              "      <td>F</td>\n",
              "      <td>WAKEFIELD</td>\n",
              "      <td>LEEDS</td>\n",
              "      <td>WEST YORKSHIRE</td>\n",
              "      <td>A</td>\n",
              "      <td>A</td>\n",
              "    </tr>\n",
              "  </tbody>\n",
              "</table>\n",
              "</div>"
            ],
            "text/plain": [
              "            Transaction unique identifier  Price  Date of Transfer  \\\n",
              "0  {81B82214-7FBC-4129-9F6B-4956B4A663AD}  25000  1995-08-18 00:00   \n",
              "1  {8046EC72-1466-42D6-A753-4956BF7CD8A2}  42500  1995-08-09 00:00   \n",
              "2  {278D581A-5BF3-4FCE-AF62-4956D87691E6}  45000  1995-06-30 00:00   \n",
              "3  {1D861C06-A416-4865-973C-4956DB12CD12}  43150  1995-11-24 00:00   \n",
              "4  {DD8645FD-A815-43A6-A7BA-4956E58F1874}  18899  1995-06-23 00:00   \n",
              "\n",
              "  Property Type Old/New Duration   Town/City            District  \\\n",
              "0             T       N        F      OLDHAM              OLDHAM   \n",
              "1             S       N        F       GRAYS            THURROCK   \n",
              "2             T       N        F  HIGHBRIDGE           SEDGEMOOR   \n",
              "3             T       N        F     BEDFORD  NORTH BEDFORDSHIRE   \n",
              "4             S       N        F   WAKEFIELD               LEEDS   \n",
              "\n",
              "               County PPDCategory Type Record Status - monthly file only  \n",
              "0  GREATER MANCHESTER                A                                 A  \n",
              "1            THURROCK                A                                 A  \n",
              "2            SOMERSET                A                                 A  \n",
              "3        BEDFORDSHIRE                A                                 A  \n",
              "4      WEST YORKSHIRE                A                                 A  "
            ]
          },
          "execution_count": 12,
          "metadata": {},
          "output_type": "execute_result"
        }
      ],
      "source": [
        "# Normal reading process of the file\n",
        "import pandas as pd\n",
        "df_sample = pd.read_csv(\"price_paid_records.csv\",delimiter=',')\n",
        "df_sample.head()"
      ]
    },
    {
      "cell_type": "code",
      "execution_count": null,
      "id": "7899b190",
      "metadata": {
        "id": "7899b190",
        "outputId": "e56e9f69-41ef-4c86-fab0-9efe1f779f8a"
      },
      "outputs": [
        {
          "name": "stderr",
          "output_type": "stream",
          "text": [
            "/var/folders/q8/1k_zqd_16118n4420sl851pc0000gp/T/ipykernel_9510/270781102.py:5: FutureWarning: In a future version of pandas all arguments of read_csv except for the argument 'filepath_or_buffer' will be keyword-only.\n",
            "  df = pd.read_csv(source_file,config_data['inbound_delimiter'])\n"
          ]
        }
      ],
      "source": [
        "# read the file using config file\n",
        "file_type = config_data['file_type']\n",
        "source_file = \"./\" + config_data['file_name'] + f'.{file_type}'\n",
        "#print(\"\",source_file)\n",
        "df = pd.read_csv(source_file,config_data['inbound_delimiter'])\n",
        "df.head()"
      ]
    },
    {
      "cell_type": "code",
      "execution_count": null,
      "id": "d106462f",
      "metadata": {
        "id": "d106462f"
      },
      "outputs": [],
      "source": [
        "#validate the header of the file\n",
        "util.col_header_val(df,config_data)"
      ]
    },
    {
      "cell_type": "code",
      "execution_count": null,
      "id": "c7ac0077",
      "metadata": {
        "id": "c7ac0077"
      },
      "outputs": [],
      "source": [
        "print(\"columns of files are:\" ,df.columns)\n",
        "print(\"columns of YAML are:\" ,config_data['columns'])"
      ]
    },
    {
      "cell_type": "code",
      "execution_count": null,
      "id": "c0853fd2",
      "metadata": {
        "id": "c0853fd2"
      },
      "outputs": [],
      "source": [
        "if util.col_header_val(df,config_data)==0:\n",
        "    print(\"validation failed\")\n",
        "    # write code to reject the file\n",
        "else:\n",
        "    print(\"col validation passed\")\n",
        "    # write the code to perform further action\n",
        "    # in the pipleine"
      ]
    }
  ],
  "metadata": {
    "kernelspec": {
      "display_name": "Python 3 (ipykernel)",
      "language": "python",
      "name": "python3"
    },
    "language_info": {
      "codemirror_mode": {
        "name": "ipython",
        "version": 3
      },
      "file_extension": ".py",
      "mimetype": "text/x-python",
      "name": "python",
      "nbconvert_exporter": "python",
      "pygments_lexer": "ipython3",
      "version": "3.9.13"
    },
    "colab": {
      "provenance": [],
      "include_colab_link": true
    }
  },
  "nbformat": 4,
  "nbformat_minor": 5
}